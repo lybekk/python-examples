{
 "cells": [
  {
   "cell_type": "markdown",
   "metadata": {},
   "source": [
    "## Create a table and insert a record (\"row\")\n",
    "\n",
    "*Note: Using `CREATE TABLE` without `IF NOT EXISTS` will generate and OperationalError exception if table already exists. Use `CREATE TABLE IF NOT EXISTS` to circumvent this*"
   ]
  },
  {
   "cell_type": "code",
   "execution_count": 3,
   "metadata": {
    "tags": []
   },
   "outputs": [],
   "source": [
    "import sqlite3\n",
    "\n",
    "conn = sqlite3.connect('training.db')\n",
    "c = conn.cursor()\n",
    "\n",
    "# Create table\n",
    "c.execute('''CREATE TABLE IF NOT EXISTS stocks\n",
    "             (date text, trans text, symbol text, qty real, price real)''')\n",
    "\n",
    "# Insert a row of data\n",
    "c.execute(\"INSERT INTO stocks VALUES ('2006-01-05','BUY','RHAT',100,35.14)\")\n",
    "\n",
    "# Save (commit) the changes\n",
    "conn.commit()\n",
    "\n",
    "# We can also close the connection if we are done with it.\n",
    "# Just be sure any changes have been committed or they will be lost.\n",
    "conn.close()\n"
   ]
  },
  {
   "cell_type": "markdown",
   "metadata": {},
   "source": [
    "## Query and view inserted records"
   ]
  },
  {
   "cell_type": "code",
   "execution_count": 21,
   "metadata": {},
   "outputs": [
    {
     "name": "stdout",
     "output_type": "stream",
     "text": [
      "('2006-01-05', 'BUY', 'RHAT', 100.0, 35.14)\n",
      "('2006-01-05', 'BUY', 'RHAT', 100.0, 35.14)\n",
      "('2006-01-05', 'BUY', 'RHAT', 100.0, 35.14)\n",
      "('2006-01-05', 'BUY', 'RHAT', 100.0, 35.14)\n",
      "('2006-01-05', 'BUY', 'RHAT', 100.0, 35.14)\n",
      "('2006-01-05', 'BUY', 'RHAT', 100.0, 35.14)\n",
      "('2006-01-05', 'BUY', 'RHAT', 100.0, 35.14)\n",
      "('2006-01-05', 'BUY', 'RHAT', 100.0, 35.14)\n",
      "2006-01-05 100.0\n",
      "2006-01-05 100.0\n",
      "2006-01-05 100.0\n",
      "2006-01-05 100.0\n",
      "2006-01-05 100.0\n",
      "2006-01-05 100.0\n",
      "2006-01-05 100.0\n",
      "2006-01-05 100.0\n"
     ]
    }
   ],
   "source": [
    "import sqlite3\n",
    "\n",
    "conn = sqlite3.connect('training.db')\n",
    "c = conn.cursor()\n",
    "\n",
    "for row in c.execute('SELECT * FROM stocks ORDER BY price'):\n",
    "        print(row)\n",
    "\n",
    "for row in c.execute('SELECT * FROM stocks ORDER BY price'):\n",
    "        print(row[0], row[3])"
   ]
  },
  {
   "cell_type": "markdown",
   "metadata": {},
   "source": [
    "## View all tables"
   ]
  },
  {
   "cell_type": "code",
   "execution_count": 4,
   "metadata": {},
   "outputs": [
    {
     "name": "stdout",
     "output_type": "stream",
     "text": [
      "ROWS>\n",
      "('table', 'stocks', 'stocks', 2, 'CREATE TABLE stocks\\n             (date text, trans text, symbol text, qty real, price real)')\n",
      "('stocks',)\n"
     ]
    }
   ],
   "source": [
    "import sqlite3\n",
    "\n",
    "conn = sqlite3.connect('training.db')\n",
    "c = conn.cursor()\n",
    "\n",
    "print(\"ROWS>\")\n",
    "for row in c.execute('SELECT * FROM sqlite_master'):\n",
    "    print(row)\n",
    "    \n",
    "for name in c.execute('SELECT name FROM sqlite_master'):\n",
    "    print(name)\n",
    "\n"
   ]
  },
  {
   "cell_type": "code",
   "execution_count": null,
   "metadata": {},
   "outputs": [],
   "source": []
  }
 ],
 "metadata": {
  "kernelspec": {
   "display_name": "Python 3",
   "language": "python",
   "name": "python3"
  },
  "language_info": {
   "codemirror_mode": {
    "name": "ipython",
    "version": 3
   },
   "file_extension": ".py",
   "mimetype": "text/x-python",
   "name": "python",
   "nbconvert_exporter": "python",
   "pygments_lexer": "ipython3",
   "version": "3.8.3"
  }
 },
 "nbformat": 4,
 "nbformat_minor": 2
}
